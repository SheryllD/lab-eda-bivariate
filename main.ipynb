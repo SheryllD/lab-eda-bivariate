{
 "cells": [
  {
   "cell_type": "markdown",
   "id": "11983a4a",
   "metadata": {},
   "source": [
    "## LAB | EDA BIVARIATE"
   ]
  },
  {
   "cell_type": "code",
   "execution_count": 7,
   "id": "411aecdc",
   "metadata": {},
   "outputs": [
    {
     "name": "stdout",
     "output_type": "stream",
     "text": [
      "Name: kagglehub\n",
      "Version: 0.3.11\n",
      "Summary: Access Kaggle resources anywhere\n",
      "Home-page: https://github.com/Kaggle/kagglehub\n",
      "Author: \n",
      "Author-email: Kaggle <support@kaggle.com>\n",
      "License: Apache License\n",
      "                           Version 2.0, January 2004\n",
      "                        http://www.apache.org/licenses/\n",
      "\n",
      "   TERMS AND CONDITIONS FOR USE, REPRODUCTION, AND DISTRIBUTION\n",
      "\n",
      "   1. Definitions.\n",
      "\n",
      "      \"License\" shall mean the terms and conditions for use, reproduction,\n",
      "      and distribution as defined by Sections 1 through 9 of this document.\n",
      "\n",
      "      \"Licensor\" shall mean the copyright owner or entity authorized by\n",
      "      the copyright owner that is granting the License.\n",
      "\n",
      "      \"Legal Entity\" shall mean the union of the acting entity and all\n",
      "      other entities that control, are controlled by, or are under common\n",
      "      control with that entity. For the purposes of this definition,\n",
      "      \"control\" means (i) the power, direct or indirect, to cause the\n",
      "      direction or management of such entity, whether by contract or\n",
      "      otherwise, or (ii) ownership of fifty percent (50%) or more of the\n",
      "      outstanding shares, or (iii) beneficial ownership of such entity.\n",
      "\n",
      "      \"You\" (or \"Your\") shall mean an individual or Legal Entity\n",
      "      exercising permissions granted by this License.\n",
      "\n",
      "      \"Source\" form shall mean the preferred form for making modifications,\n",
      "      including but not limited to software source code, documentation\n",
      "      source, and configuration files.\n",
      "\n",
      "      \"Object\" form shall mean any form resulting from mechanical\n",
      "      transformation or translation of a Source form, including but\n",
      "      not limited to compiled object code, generated documentation,\n",
      "      and conversions to other media types.\n",
      "\n",
      "      \"Work\" shall mean the work of authorship, whether in Source or\n",
      "      Object form, made available under the License, as indicated by a\n",
      "      copyright notice that is included in or attached to the work\n",
      "      (an example is provided in the Appendix below).\n",
      "\n",
      "      \"Derivative Works\" shall mean any work, whether in Source or Object\n",
      "      form, that is based on (or derived from) the Work and for which the\n",
      "      editorial revisions, annotations, elaborations, or other modifications\n",
      "      represent, as a whole, an original work of authorship. For the purposes\n",
      "      of this License, Derivative Works shall not include works that remain\n",
      "      separable from, or merely link (or bind by name) to the interfaces of,\n",
      "      the Work and Derivative Works thereof.\n",
      "\n",
      "      \"Contribution\" shall mean any work of authorship, including\n",
      "      the original version of the Work and any modifications or additions\n",
      "      to that Work or Derivative Works thereof, that is intentionally\n",
      "      submitted to Licensor for inclusion in the Work by the copyright owner\n",
      "      or by an individual or Legal Entity authorized to submit on behalf of\n",
      "      the copyright owner. For the purposes of this definition, \"submitted\"\n",
      "      means any form of electronic, verbal, or written communication sent\n",
      "      to the Licensor or its representatives, including but not limited to\n",
      "      communication on electronic mailing lists, source code control systems,\n",
      "      and issue tracking systems that are managed by, or on behalf of, the\n",
      "      Licensor for the purpose of discussing and improving the Work, but\n",
      "      excluding communication that is conspicuously marked or otherwise\n",
      "      designated in writing by the copyright owner as \"Not a Contribution.\"\n",
      "\n",
      "      \"Contributor\" shall mean Licensor and any individual or Legal Entity\n",
      "      on behalf of whom a Contribution has been received by Licensor and\n",
      "      subsequently incorporated within the Work.\n",
      "\n",
      "   2. Grant of Copyright License. Subject to the terms and conditions of\n",
      "      this License, each Contributor hereby grants to You a perpetual,\n",
      "      worldwide, non-exclusive, no-charge, royalty-free, irrevocable\n",
      "      copyright license to reproduce, prepare Derivative Works of,\n",
      "      publicly display, publicly perform, sublicense, and distribute the\n",
      "      Work and such Derivative Works in Source or Object form.\n",
      "\n",
      "   3. Grant of Patent License. Subject to the terms and conditions of\n",
      "      this License, each Contributor hereby grants to You a perpetual,\n",
      "      worldwide, non-exclusive, no-charge, royalty-free, irrevocable\n",
      "      (except as stated in this section) patent license to make, have made,\n",
      "      use, offer to sell, sell, import, and otherwise transfer the Work,\n",
      "      where such license applies only to those patent claims licensable\n",
      "      by such Contributor that are necessarily infringed by their\n",
      "      Contribution(s) alone or by combination of their Contribution(s)\n",
      "      with the Work to which such Contribution(s) was submitted. If You\n",
      "      institute patent litigation against any entity (including a\n",
      "      cross-claim or counterclaim in a lawsuit) alleging that the Work\n",
      "      or a Contribution incorporated within the Work constitutes direct\n",
      "      or contributory patent infringement, then any patent licenses\n",
      "      granted to You under this License for that Work shall terminate\n",
      "      as of the date such litigation is filed.\n",
      "\n",
      "   4. Redistribution. You may reproduce and distribute copies of the\n",
      "      Work or Derivative Works thereof in any medium, with or without\n",
      "      modifications, and in Source or Object form, provided that You\n",
      "      meet the following conditions:\n",
      "\n",
      "      (a) You must give any other recipients of the Work or\n",
      "          Derivative Works a copy of this License; and\n",
      "\n",
      "      (b) You must cause any modified files to carry prominent notices\n",
      "          stating that You changed the files; and\n",
      "\n",
      "      (c) You must retain, in the Source form of any Derivative Works\n",
      "          that You distribute, all copyright, patent, trademark, and\n",
      "          attribution notices from the Source form of the Work,\n",
      "          excluding those notices that do not pertain to any part of\n",
      "          the Derivative Works; and\n",
      "\n",
      "      (d) If the Work includes a \"NOTICE\" text file as part of its\n",
      "          distribution, then any Derivative Works that You distribute must\n",
      "          include a readable copy of the attribution notices contained\n",
      "          within such NOTICE file, excluding those notices that do not\n",
      "          pertain to any part of the Derivative Works, in at least one\n",
      "          of the following places: within a NOTICE text file distributed\n",
      "          as part of the Derivative Works; within the Source form or\n",
      "          documentation, if provided along with the Derivative Works; or,\n",
      "          within a display generated by the Derivative Works, if and\n",
      "          wherever such third-party notices normally appear. The contents\n",
      "          of the NOTICE file are for informational purposes only and\n",
      "          do not modify the License. You may add Your own attribution\n",
      "          notices within Derivative Works that You distribute, alongside\n",
      "          or as an addendum to the NOTICE text from the Work, provided\n",
      "          that such additional attribution notices cannot be construed\n",
      "          as modifying the License.\n",
      "\n",
      "      You may add Your own copyright statement to Your modifications and\n",
      "      may provide additional or different license terms and conditions\n",
      "      for use, reproduction, or distribution of Your modifications, or\n",
      "      for any such Derivative Works as a whole, provided Your use,\n",
      "      reproduction, and distribution of the Work otherwise complies with\n",
      "      the conditions stated in this License.\n",
      "\n",
      "   5. Submission of Contributions. Unless You explicitly state otherwise,\n",
      "      any Contribution intentionally submitted for inclusion in the Work\n",
      "      by You to the Licensor shall be under the terms and conditions of\n",
      "      this License, without any additional terms or conditions.\n",
      "      Notwithstanding the above, nothing herein shall supersede or modify\n",
      "      the terms of any separate license agreement you may have executed\n",
      "      with Licensor regarding such Contributions.\n",
      "\n",
      "   6. Trademarks. This License does not grant permission to use the trade\n",
      "      names, trademarks, service marks, or product names of the Licensor,\n",
      "      except as required for reasonable and customary use in describing the\n",
      "      origin of the Work and reproducing the content of the NOTICE file.\n",
      "\n",
      "   7. Disclaimer of Warranty. Unless required by applicable law or\n",
      "      agreed to in writing, Licensor provides the Work (and each\n",
      "      Contributor provides its Contributions) on an \"AS IS\" BASIS,\n",
      "      WITHOUT WARRANTIES OR CONDITIONS OF ANY KIND, either express or\n",
      "      implied, including, without limitation, any warranties or conditions\n",
      "      of TITLE, NON-INFRINGEMENT, MERCHANTABILITY, or FITNESS FOR A\n",
      "      PARTICULAR PURPOSE. You are solely responsible for determining the\n",
      "      appropriateness of using or redistributing the Work and assume any\n",
      "      risks associated with Your exercise of permissions under this License.\n",
      "\n",
      "   8. Limitation of Liability. In no event and under no legal theory,\n",
      "      whether in tort (including negligence), contract, or otherwise,\n",
      "      unless required by applicable law (such as deliberate and grossly\n",
      "      negligent acts) or agreed to in writing, shall any Contributor be\n",
      "      liable to You for damages, including any direct, indirect, special,\n",
      "      incidental, or consequential damages of any character arising as a\n",
      "      result of this License or out of the use or inability to use the\n",
      "      Work (including but not limited to damages for loss of goodwill,\n",
      "      work stoppage, computer failure or malfunction, or any and all\n",
      "      other commercial damages or losses), even if such Contributor\n",
      "      has been advised of the possibility of such damages.\n",
      "\n",
      "   9. Accepting Warranty or Additional Liability. While redistributing\n",
      "      the Work or Derivative Works thereof, You may choose to offer,\n",
      "      and charge a fee for, acceptance of support, warranty, indemnity,\n",
      "      or other liability obligations and/or rights consistent with this\n",
      "      License. However, in accepting such obligations, You may act only\n",
      "      on Your own behalf and on Your sole responsibility, not on behalf\n",
      "      of any other Contributor, and only if You agree to indemnify,\n",
      "      defend, and hold each Contributor harmless for any liability\n",
      "      incurred by, or claims asserted against, such Contributor by reason\n",
      "      of your accepting any such warranty or additional liability.\n",
      "\n",
      "   END OF TERMS AND CONDITIONS\n",
      "\n",
      "   APPENDIX: How to apply the Apache License to your work.\n",
      "\n",
      "      To apply the Apache License to your work, attach the following\n",
      "      boilerplate notice, with the fields enclosed by brackets \"[]\"\n",
      "      replaced with your own identifying information. (Don't include\n",
      "      the brackets!)  The text should be enclosed in the appropriate\n",
      "      comment syntax for the file format. We also recommend that a\n",
      "      file or class name and description of purpose be included on the\n",
      "      same \"printed page\" as the copyright notice for easier\n",
      "      identification within third-party archives.\n",
      "\n",
      "   Copyright 2018 Kaggle Inc\n",
      "\n",
      "   Licensed under the Apache License, Version 2.0 (the \"License\");\n",
      "   you may not use this file except in compliance with the License.\n",
      "   You may obtain a copy of the License at\n",
      "\n",
      "       http://www.apache.org/licenses/LICENSE-2.0\n",
      "\n",
      "   Unless required by applicable law or agreed to in writing, software\n",
      "   distributed under the License is distributed on an \"AS IS\" BASIS,\n",
      "   WITHOUT WARRANTIES OR CONDITIONS OF ANY KIND, either express or implied.\n",
      "   See the License for the specific language governing permissions and\n",
      "   limitations under the License.\n",
      "Location: /opt/anaconda3/lib/python3.12/site-packages\n",
      "Requires: packaging, pyyaml, requests, tqdm\n",
      "Required-by: \n",
      "Note: you may need to restart the kernel to use updated packages.\n"
     ]
    }
   ],
   "source": [
    "pip show kagglehub"
   ]
  },
  {
   "cell_type": "markdown",
   "id": "acabe0f8",
   "metadata": {},
   "source": [
    "## Loading & Preparing the data"
   ]
  },
  {
   "cell_type": "code",
   "execution_count": 12,
   "id": "a3d82952",
   "metadata": {},
   "outputs": [],
   "source": [
    "import pandas as pd \n",
    "import matplotlib.pyplot as plt \n",
    "import seaborn as sns \n",
    "import numpy as np\n",
    "import scipy.stats as st\n",
    "from scipy.stats import chi2_contingency \n",
    "from scipy.stats.contingency import association \n",
    "\n",
    "import kagglehub\n",
    "from kagglehub import KaggleDatasetAdapter\n",
    "\n",
    "%matplotlib inline \n",
    "pd.set_option(\"display.max_columns\", None)"
   ]
  },
  {
   "cell_type": "code",
   "execution_count": 13,
   "id": "c62e15b7",
   "metadata": {},
   "outputs": [
    {
     "name": "stderr",
     "output_type": "stream",
     "text": [
      "/var/folders/rx/4vz0nngn7_q84td2symm90y40000gn/T/ipykernel_25196/3013975043.py:6: DeprecationWarning: load_dataset is deprecated and will be removed in future version.\n",
      "  df = kagglehub.load_dataset(\n"
     ]
    },
    {
     "name": "stdout",
     "output_type": "stream",
     "text": [
      "Warning: Looks like you're using an outdated `kagglehub` version (installed: 0.3.11), please consider upgrading to the latest version (0.3.12).\n",
      "First 5 records:    uid        asin                                              title  stars  \\\n",
      "0    1  B09B96TG33  Echo Dot (5th generation, 2022 release) | Big ...    4.7   \n",
      "1    2  B01HTH3C8S  Anker Soundcore mini, Super-Portable Bluetooth...    4.7   \n",
      "2    3  B09B8YWXDF  Echo Dot (5th generation, 2022 release) | Big ...    4.7   \n",
      "3    4  B09B8T5VGV  Echo Dot with clock (5th generation, 2022 rele...    4.7   \n",
      "4    5  B09WX6QD65  Introducing Echo Pop | Full sound compact Wi-F...    4.6   \n",
      "\n",
      "   reviews  price  isBestSeller  boughtInLastMonth        category  \n",
      "0    15308  21.99         False                  0  Hi-Fi Speakers  \n",
      "1    98099  23.99          True                  0  Hi-Fi Speakers  \n",
      "2    15308  21.99         False                  0  Hi-Fi Speakers  \n",
      "3     7205  31.99         False                  0  Hi-Fi Speakers  \n",
      "4     1881  17.99         False                  0  Hi-Fi Speakers  \n"
     ]
    }
   ],
   "source": [
    "# Set the path to the file\n",
    "file_path = \"amz_uk_price_prediction_dataset.csv\"\n",
    "\n",
    "# Load the latest version\n",
    "\n",
    "df = kagglehub.load_dataset(\n",
    "  KaggleDatasetAdapter.PANDAS,\n",
    "  \"asaniczka/uk-optimal-product-price-prediction\",\n",
    "  file_path,\n",
    "  # documenation for more information:\n",
    "  # https://github.com/Kaggle/kagglehub/blob/main/README.md#kaggledatasetadapterpandas\n",
    ")\n",
    "\n",
    "print(\"First 5 records:\", df.head())"
   ]
  },
  {
   "cell_type": "code",
   "execution_count": 18,
   "id": "d733f2cf",
   "metadata": {},
   "outputs": [
    {
     "data": {
      "text/plain": [
       "(2443651, 9)"
      ]
     },
     "execution_count": 18,
     "metadata": {},
     "output_type": "execute_result"
    }
   ],
   "source": [
    "df.shape"
   ]
  },
  {
   "cell_type": "code",
   "execution_count": 19,
   "id": "83f0afdc",
   "metadata": {},
   "outputs": [
    {
     "data": {
      "application/vnd.microsoft.datawrangler.viewer.v0+json": {
       "columns": [
        {
         "name": "index",
         "rawType": "object",
         "type": "string"
        },
        {
         "name": "0",
         "rawType": "object",
         "type": "unknown"
        }
       ],
       "ref": "d7ca0942-1507-4cb5-8df9-8bc2b3345f35",
       "rows": [
        [
         "uid",
         "int64"
        ],
        [
         "asin",
         "object"
        ],
        [
         "title",
         "object"
        ],
        [
         "stars",
         "float64"
        ],
        [
         "reviews",
         "int64"
        ],
        [
         "price",
         "float64"
        ],
        [
         "isBestSeller",
         "bool"
        ],
        [
         "boughtInLastMonth",
         "int64"
        ],
        [
         "category",
         "object"
        ]
       ],
       "shape": {
        "columns": 1,
        "rows": 9
       }
      },
      "text/plain": [
       "uid                    int64\n",
       "asin                  object\n",
       "title                 object\n",
       "stars                float64\n",
       "reviews                int64\n",
       "price                float64\n",
       "isBestSeller            bool\n",
       "boughtInLastMonth      int64\n",
       "category              object\n",
       "dtype: object"
      ]
     },
     "execution_count": 19,
     "metadata": {},
     "output_type": "execute_result"
    }
   ],
   "source": [
    "df.dtypes"
   ]
  },
  {
   "cell_type": "markdown",
   "id": "8d8749c2",
   "metadata": {},
   "source": [
    "### Part 1: Analyzing Best-Seller Trends Across Product Categories\n",
    "\n",
    "**Objective**: Understand the relationship between product categories and their best-seller status.\n",
    "\n",
    "1. **Crosstab Analysis**:\n",
    "    - Create a crosstab between the product `category` and the `isBestSeller` status.\n",
    "    - Are there categories where being a best-seller is more prevalent? \n",
    "    \t*Hint: one option is to calculate the proportion of best-sellers for each category and then sort the categories based on this proportion in descending order.*\n",
    "\n",
    "2. **Statistical Tests**:\n",
    "    - Conduct a Chi-square test to determine if the best-seller distribution is independent of the product category.\n",
    "    - Compute Cramér's V to understand the strength of association between best-seller status and category.\n",
    "\n",
    "3. **Visualizations**:\n",
    "\t- Visualize the relationship between product categories and the best-seller status using a stacked bar chart."
   ]
  },
  {
   "cell_type": "code",
   "execution_count": 15,
   "id": "235d1fda",
   "metadata": {},
   "outputs": [],
   "source": [
    "# Filtering out columns in the dataframe where more than 80% of the values are missing\n",
    "df = df[df.columns[df.isnull().mean() < 0.8]]"
   ]
  },
  {
   "cell_type": "markdown",
   "id": "086f345b",
   "metadata": {},
   "source": [
    "Crosstab Analysis"
   ]
  },
  {
   "cell_type": "code",
   "execution_count": 22,
   "id": "a4371932",
   "metadata": {},
   "outputs": [
    {
     "data": {
      "application/vnd.microsoft.datawrangler.viewer.v0+json": {
       "columns": [
        {
         "name": "category",
         "rawType": "object",
         "type": "string"
        },
        {
         "name": "False",
         "rawType": "int64",
         "type": "integer"
        },
        {
         "name": "True",
         "rawType": "int64",
         "type": "integer"
        }
       ],
       "ref": "c032fad3-f7dc-46ad-b209-22436ce209bd",
       "rows": [
        [
         "Grocery",
         "9008",
         "556"
        ],
        [
         "Health & Personal Care",
         "9017",
         "552"
        ],
        [
         "Baby",
         "14709",
         "341"
        ],
        [
         "Sports & Outdoors",
         "835935",
         "330"
        ],
        [
         "Power & Hand Tools",
         "8353",
         "306"
        ],
        [
         "Beauty",
         "19010",
         "302"
        ],
        [
         "Pet Supplies",
         "9152",
         "285"
        ],
        [
         "Arts & Crafts",
         "9319",
         "230"
        ],
        [
         "Women",
         "17559",
         "213"
        ],
        [
         "Men",
         "17248",
         "169"
        ],
        [
         "PC & Video Games",
         "6008",
         "157"
        ],
        [
         "Storage & Organisation",
         "9414",
         "155"
        ],
        [
         "Hardware",
         "8424",
         "146"
        ],
        [
         "Large Appliances",
         "7740",
         "144"
        ],
        [
         "Building Supplies",
         "7996",
         "134"
        ],
        [
         "Office Supplies",
         "9045",
         "133"
        ],
        [
         "Customers' Most Loved",
         "7191",
         "111"
        ],
        [
         "Agricultural Equipment & Supplies",
         "8421",
         "109"
        ],
        [
         "Gardening",
         "9275",
         "106"
        ],
        [
         "Luggage and travel gear",
         "18047",
         "95"
        ],
        [
         "Car & Motorbike",
         "9296",
         "87"
        ],
        [
         "Boys",
         "11702",
         "87"
        ],
        [
         "Mobile Phones & Communication",
         "8799",
         "83"
        ],
        [
         "Girls",
         "10227",
         "83"
        ],
        [
         "Camera & Photo Accessories",
         "9329",
         "83"
        ],
        [
         "Small Kitchen Appliances",
         "8129",
         "76"
        ],
        [
         "Hair Care",
         "18665",
         "70"
        ],
        [
         "Safety & Security",
         "9001",
         "69"
        ],
        [
         "Sports Toys & Outdoor",
         "9261",
         "58"
        ],
        [
         "Manicure & Pedicure Products",
         "18882",
         "58"
        ],
        [
         "Skin Care",
         "18711",
         "58"
        ],
        [
         "Painting Supplies, Tools & Wall Treatments",
         "8970",
         "56"
        ],
        [
         "Electrical",
         "8689",
         "51"
        ],
        [
         "Home Cinema, TV & Video",
         "9264",
         "49"
        ],
        [
         "Handmade Home & Kitchen Products",
         "17387",
         "48"
        ],
        [
         "Car & Vehicle Electronics",
         "8598",
         "48"
        ],
        [
         "Hobbies",
         "9126",
         "48"
        ],
        [
         "Garden Tools & Watering Equipment",
         "8869",
         "47"
        ],
        [
         "Outdoor Cooking",
         "9486",
         "46"
        ],
        [
         "Garden Décor",
         "9447",
         "45"
        ],
        [
         "Garden Furniture & Accessories",
         "9581",
         "45"
        ],
        [
         "Kids' Dress Up & Pretend Play",
         "9168",
         "44"
        ],
        [
         "Handmade Gifts",
         "18251",
         "44"
        ],
        [
         "Office Electronics",
         "9229",
         "42"
        ],
        [
         "Coffee, Tea & Espresso",
         "7585",
         "42"
        ],
        [
         "Make-up",
         "18715",
         "41"
        ],
        [
         "Kids' Art & Craft Supplies",
         "9441",
         "41"
        ],
        [
         "Games & Game Accessories",
         "9357",
         "39"
        ],
        [
         "Office Paper Products",
         "9058",
         "38"
        ],
        [
         "Kitchen & Bath Fixtures",
         "7880",
         "36"
        ]
       ],
       "shape": {
        "columns": 2,
        "rows": 296
       }
      },
      "text/html": [
       "<div>\n",
       "<style scoped>\n",
       "    .dataframe tbody tr th:only-of-type {\n",
       "        vertical-align: middle;\n",
       "    }\n",
       "\n",
       "    .dataframe tbody tr th {\n",
       "        vertical-align: top;\n",
       "    }\n",
       "\n",
       "    .dataframe thead th {\n",
       "        text-align: right;\n",
       "    }\n",
       "</style>\n",
       "<table border=\"1\" class=\"dataframe\">\n",
       "  <thead>\n",
       "    <tr style=\"text-align: right;\">\n",
       "      <th>isBestSeller</th>\n",
       "      <th>False</th>\n",
       "      <th>True</th>\n",
       "    </tr>\n",
       "    <tr>\n",
       "      <th>category</th>\n",
       "      <th></th>\n",
       "      <th></th>\n",
       "    </tr>\n",
       "  </thead>\n",
       "  <tbody>\n",
       "    <tr>\n",
       "      <th>Grocery</th>\n",
       "      <td>9008</td>\n",
       "      <td>556</td>\n",
       "    </tr>\n",
       "    <tr>\n",
       "      <th>Health &amp; Personal Care</th>\n",
       "      <td>9017</td>\n",
       "      <td>552</td>\n",
       "    </tr>\n",
       "    <tr>\n",
       "      <th>Baby</th>\n",
       "      <td>14709</td>\n",
       "      <td>341</td>\n",
       "    </tr>\n",
       "    <tr>\n",
       "      <th>Sports &amp; Outdoors</th>\n",
       "      <td>835935</td>\n",
       "      <td>330</td>\n",
       "    </tr>\n",
       "    <tr>\n",
       "      <th>Power &amp; Hand Tools</th>\n",
       "      <td>8353</td>\n",
       "      <td>306</td>\n",
       "    </tr>\n",
       "    <tr>\n",
       "      <th>...</th>\n",
       "      <td>...</td>\n",
       "      <td>...</td>\n",
       "    </tr>\n",
       "    <tr>\n",
       "      <th>Downhill Ski Boots</th>\n",
       "      <td>1284</td>\n",
       "      <td>0</td>\n",
       "    </tr>\n",
       "    <tr>\n",
       "      <th>Digital Frames</th>\n",
       "      <td>774</td>\n",
       "      <td>0</td>\n",
       "    </tr>\n",
       "    <tr>\n",
       "      <th>Motorbike Chassis</th>\n",
       "      <td>107</td>\n",
       "      <td>0</td>\n",
       "    </tr>\n",
       "    <tr>\n",
       "      <th>Motorbike Drive &amp; Gears</th>\n",
       "      <td>250</td>\n",
       "      <td>0</td>\n",
       "    </tr>\n",
       "    <tr>\n",
       "      <th>eBook Readers &amp; Accessories</th>\n",
       "      <td>246</td>\n",
       "      <td>0</td>\n",
       "    </tr>\n",
       "  </tbody>\n",
       "</table>\n",
       "<p>296 rows × 2 columns</p>\n",
       "</div>"
      ],
      "text/plain": [
       "isBestSeller                  False  True \n",
       "category                                  \n",
       "Grocery                        9008    556\n",
       "Health & Personal Care         9017    552\n",
       "Baby                          14709    341\n",
       "Sports & Outdoors            835935    330\n",
       "Power & Hand Tools             8353    306\n",
       "...                             ...    ...\n",
       "Downhill Ski Boots             1284      0\n",
       "Digital Frames                  774      0\n",
       "Motorbike Chassis               107      0\n",
       "Motorbike Drive & Gears         250      0\n",
       "eBook Readers & Accessories     246      0\n",
       "\n",
       "[296 rows x 2 columns]"
      ]
     },
     "execution_count": 22,
     "metadata": {},
     "output_type": "execute_result"
    }
   ],
   "source": [
    "df_best_sellers = pd.crosstab(df[\"category\"], df[\"isBestSeller\"]).sort_values(by=True, ascending=False)\n",
    "df_best_sellers"
   ]
  },
  {
   "cell_type": "markdown",
   "id": "73d223b2",
   "metadata": {},
   "source": [
    "### Statistical Test"
   ]
  },
  {
   "cell_type": "code",
   "execution_count": 24,
   "id": "10d8aa2c",
   "metadata": {},
   "outputs": [
    {
     "name": "stdout",
     "output_type": "stream",
     "text": [
      "P-value of Chi-square test is: 0.0\n"
     ]
    },
    {
     "data": {
      "text/plain": [
       "0.12228294397605641"
      ]
     },
     "execution_count": 24,
     "metadata": {},
     "output_type": "execute_result"
    }
   ],
   "source": [
    "# P-value for Chi-square \n",
    "_, chi_p, _, _ = chi2_contingency(df_best_sellers)\n",
    "print(f\"P-value of Chi-square test is: {chi_p}\")\n",
    "\n",
    "# Cramer's V\n",
    "association(df_best_sellers, method=\"cramer\")"
   ]
  },
  {
   "cell_type": "markdown",
   "id": "0ea0cae0",
   "metadata": {},
   "source": [
    "### Visualization "
   ]
  },
  {
   "cell_type": "code",
   "execution_count": 43,
   "id": "19f62e9f",
   "metadata": {},
   "outputs": [
    {
     "data": {
      "text/plain": [
       "<Axes: xlabel='category'>"
      ]
     },
     "execution_count": 43,
     "metadata": {},
     "output_type": "execute_result"
    }
   ],
   "source": [
    "df_best_sellers.plot(kind=\"bar\", stacked=True)"
   ]
  },
  {
   "cell_type": "code",
   "execution_count": 45,
   "id": "9cc43402",
   "metadata": {},
   "outputs": [
    {
     "name": "stdout",
     "output_type": "stream",
     "text": [
      "Index(['uid', 'asin', 'title', 'stars', 'reviews', 'price', 'isBestSeller',\n",
      "       'boughtInLastMonth', 'category'],\n",
      "      dtype='object')\n"
     ]
    }
   ],
   "source": [
    "print(df.columns)"
   ]
  },
  {
   "cell_type": "code",
   "execution_count": 47,
   "id": "154531ae",
   "metadata": {},
   "outputs": [
    {
     "data": {
      "image/png": "[encoded data removed]",
      "text/plain": [
       "<Figure size 640x480 with 1 Axes>"
      ]
     },
     "metadata": {},
     "output_type": "display_data"
    }
   ],
   "source": [
    "# Step 1: Filter for BestSellers only \n",
    "df_best = df[df[\"isBestSeller\"] == True]\n",
    "\n",
    "# Step 2: Count BestSellers per category\n",
    "top_categories = df_best[\"category\"].value_counts().nlargest(10).index\n",
    "\n",
    "# Step 3: Filter full DataFrame to include only those top categories\n",
    "df_top10 = df[df[\"category\"].isin(top_categories)]\n",
    "\n",
    "sns.countplot(data=df_top10, x=\"category\", hue=\"isBestSeller\")\n",
    "plt.xticks(rotation=45)\n",
    "plt.title(\"Grouped Bar Chart of BestSeller by Category\")\n",
    "plt.tight_layout()\n",
    "plt.show()"
   ]
  },
  {
   "cell_type": "code",
   "execution_count": 33,
   "id": "2296005e",
   "metadata": {},
   "outputs": [
    {
     "data": {
      "image/png": "[encoded data removed]",
      "text/plain": [
       "<Figure size 1400x600 with 2 Axes>"
      ]
     },
     "metadata": {},
     "output_type": "display_data"
    }
   ],
   "source": [
    "# Create two subplot side by side \n",
    "fig, axes = plt.subplots(1, 2, figsize=(14, 6)) # so 1 row, 2 columns \n",
    "\n",
    "# Plot 1: Top 3 BestSellers\n",
    "df_best_sellers.head(3).plot(\n",
    "    kind=\"bar\",\n",
    "    stacked=True,\n",
    "    ax=axes[0]\n",
    ")\n",
    "\n",
    "axes[0].set_title(\"Top 3 Categories by BestSellers Status\")\n",
    "axes[0].set_xlabel(\"Category\")\n",
    "axes[0].set_ylabel(\"Count\")\n",
    "axes[0].tick_params(axis=\"x\", rotation=90)\n",
    "axes[0].legend(title=\"isBestSeller\")\n",
    "\n",
    "# Plot 2: Top 5 for visible outcome on stacked barplot\n",
    "df_best_sellers.head(5).plot(\n",
    "    kind=\"bar\", \n",
    "    stacked=True,\n",
    "    ax=axes[1])\n",
    "\n",
    "axes[1].set_title(\"Top 5 Categories by BestSelleers Status\")\n",
    "axes[1].set_xlabel(\"Category\")\n",
    "axes[1].set_ylabel(\"Count\")\n",
    "axes[1].tick_params(axis=\"x\", rotation=90) # rotate x-axis labels for readability\n",
    "axes[1].legend(title=\"isBestSeller\")\n",
    "\n",
    "plt.tight_layout() # Adjust layout to prevent clipping of labels\n",
    "plt.show()"
   ]
  },
  {
   "cell_type": "code",
   "execution_count": 16,
   "id": "8d243ee8",
   "metadata": {},
   "outputs": [
    {
     "data": {
      "application/vnd.microsoft.datawrangler.viewer.v0+json": {
       "columns": [
        {
         "name": "index",
         "rawType": "int64",
         "type": "integer"
        }
       ],
       "ref": "c80febbd-c816-4727-92b0-132348eef799",
       "rows": [
        [
         "0"
        ],
        [
         "1"
        ],
        [
         "2"
        ],
        [
         "3"
        ],
        [
         "4"
        ],
        [
         "5"
        ],
        [
         "6"
        ],
        [
         "7"
        ],
        [
         "8"
        ],
        [
         "9"
        ],
        [
         "10"
        ],
        [
         "11"
        ],
        [
         "12"
        ],
        [
         "13"
        ],
        [
         "14"
        ],
        [
         "15"
        ],
        [
         "16"
        ],
        [
         "17"
        ],
        [
         "18"
        ],
        [
         "19"
        ],
        [
         "20"
        ],
        [
         "21"
        ],
        [
         "22"
        ],
        [
         "23"
        ],
        [
         "24"
        ],
        [
         "25"
        ],
        [
         "26"
        ],
        [
         "27"
        ],
        [
         "28"
        ],
        [
         "29"
        ],
        [
         "30"
        ],
        [
         "31"
        ],
        [
         "32"
        ],
        [
         "33"
        ],
        [
         "34"
        ],
        [
         "35"
        ],
        [
         "36"
        ],
        [
         "37"
        ],
        [
         "38"
        ],
        [
         "39"
        ],
        [
         "40"
        ],
        [
         "41"
        ],
        [
         "42"
        ],
        [
         "43"
        ],
        [
         "44"
        ],
        [
         "45"
        ],
        [
         "46"
        ],
        [
         "47"
        ],
        [
         "48"
        ],
        [
         "49"
        ]
       ],
       "shape": {
        "columns": 0,
        "rows": 2443651
       }
      },
      "text/html": [
       "<div>\n",
       "<style scoped>\n",
       "    .dataframe tbody tr th:only-of-type {\n",
       "        vertical-align: middle;\n",
       "    }\n",
       "\n",
       "    .dataframe tbody tr th {\n",
       "        vertical-align: top;\n",
       "    }\n",
       "\n",
       "    .dataframe thead th {\n",
       "        text-align: right;\n",
       "    }\n",
       "</style>\n",
       "<table border=\"1\" class=\"dataframe\">\n",
       "  <thead>\n",
       "    <tr style=\"text-align: right;\">\n",
       "      <th></th>\n",
       "    </tr>\n",
       "  </thead>\n",
       "  <tbody>\n",
       "    <tr>\n",
       "      <th>0</th>\n",
       "    </tr>\n",
       "    <tr>\n",
       "      <th>1</th>\n",
       "    </tr>\n",
       "    <tr>\n",
       "      <th>2</th>\n",
       "    </tr>\n",
       "    <tr>\n",
       "      <th>3</th>\n",
       "    </tr>\n",
       "    <tr>\n",
       "      <th>4</th>\n",
       "    </tr>\n",
       "    <tr>\n",
       "      <th>...</th>\n",
       "    </tr>\n",
       "    <tr>\n",
       "      <th>2443646</th>\n",
       "    </tr>\n",
       "    <tr>\n",
       "      <th>2443647</th>\n",
       "    </tr>\n",
       "    <tr>\n",
       "      <th>2443648</th>\n",
       "    </tr>\n",
       "    <tr>\n",
       "      <th>2443649</th>\n",
       "    </tr>\n",
       "    <tr>\n",
       "      <th>2443650</th>\n",
       "    </tr>\n",
       "  </tbody>\n",
       "</table>\n",
       "<p>2443651 rows × 0 columns</p>\n",
       "</div>"
      ],
      "text/plain": [
       "Empty DataFrame\n",
       "Columns: []\n",
       "Index: [0, 1, 2, 3, 4, 5, 6, 7, 8, 9, 10, 11, 12, 13, 14, 15, 16, 17, 18, 19, 20, 21, 22, 23, 24, 25, 26, 27, 28, 29, 30, 31, 32, 33, 34, 35, 36, 37, 38, 39, 40, 41, 42, 43, 44, 45, 46, 47, 48, 49, 50, 51, 52, 53, 54, 55, 56, 57, 58, 59, 60, 61, 62, 63, 64, 65, 66, 67, 68, 69, 70, 71, 72, 73, 74, 75, 76, 77, 78, 79, 80, 81, 82, 83, 84, 85, 86, 87, 88, 89, 90, 91, 92, 93, 94, 95, 96, 97, 98, 99, ...]\n",
       "\n",
       "[2443651 rows x 0 columns]"
      ]
     },
     "execution_count": 16,
     "metadata": {},
     "output_type": "execute_result"
    }
   ],
   "source": [
    "# Separating between discrete and continuous variables, as discrete ones could potentially be treated as categorical.\n",
    "# Remember to adjust the threshold (in this case, < 20) based on your dataset's specific characteristics and domain knowledge.\n",
    "potential_categorical_from_numerical = df.select_dtypes(\"number\").loc[:, df.select_dtypes(\"number\").nunique() < 20]\n",
    "potential_categorical_from_numerical"
   ]
  },
  {
   "cell_type": "code",
   "execution_count": 17,
   "id": "07707d05",
   "metadata": {},
   "outputs": [],
   "source": [
    "# Extracting columns with object (typically string) data types to create a categorical dataframe\n",
    "# For demonstration purposes, let's consider the columns in potential_categorical_from_numerical as categorical variables.\n",
    "df_categorical = pd.concat([df.select_dtypes(\"object\"), potential_categorical_from_numerical], axis=1)\n",
    "\n",
    "# Adjusting the numerical dataframe by removing the moved columns\n",
    "df_numerical = df.select_dtypes(\"number\").drop(columns=potential_categorical_from_numerical.columns)"
   ]
  },
  {
   "cell_type": "markdown",
   "id": "08b93709",
   "metadata": {},
   "source": [
    "### Exploring Product Prices and Ratings Across Categories and Brands\n",
    "Preliminary Step: Remove Outliers in Product Prices"
   ]
  },
  {
   "cell_type": "code",
   "execution_count": 49,
   "id": "43f5dcc9",
   "metadata": {},
   "outputs": [],
   "source": [
    "# IQR Method \n",
    "# Defining 1st and 3rd quantiles \n",
    "\n",
    "Q1 = df[\"price\"].quantile(0.25)\n",
    "Q3 = df[\"price\"].quantile(0.75)\n",
    "\n",
    "IQR = Q3-Q1\n",
    "\n",
    "# Defining upper and lower bounds\n",
    "lower_bound = Q1 - 1.5*IQR\n",
    "upper_bound = Q3 + 1.5*IQR\n",
    "\n",
    "df = df[(df[\"price\"] <= upper_bound) & (df[\"price\"] >= lower_bound)]"
   ]
  }
 ],
 "metadata": {
  "kernelspec": {
   "display_name": "base",
   "language": "python",
   "name": "python3"
  },
  "language_info": {
   "codemirror_mode": {
    "name": "ipython",
    "version": 3
   },
   "file_extension": ".py",
   "mimetype": "text/x-python",
   "name": "python",
   "nbconvert_exporter": "python",
   "pygments_lexer": "ipython3",
   "version": "3.12.2"
  }
 },
 "nbformat": 4,
 "nbformat_minor": 5
}
